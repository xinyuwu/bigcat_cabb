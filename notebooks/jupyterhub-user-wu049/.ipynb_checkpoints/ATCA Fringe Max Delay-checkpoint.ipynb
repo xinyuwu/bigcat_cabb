{
 "cells": [
  {
   "cell_type": "markdown",
   "metadata": {},
   "source": [
    "### Initialise arrays etc"
   ]
  },
  {
   "cell_type": "code",
   "execution_count": 1,
   "metadata": {},
   "outputs": [
    {
     "data": {
      "application/javascript": [
       "IPython.OutputArea.prototype._should_scroll = function(lines) {\n",
       "    return false;\n",
       "}\n",
       "\n"
      ],
      "text/plain": [
       "<IPython.core.display.Javascript object>"
      ]
     },
     "metadata": {},
     "output_type": "display_data"
    }
   ],
   "source": [
    "%%javascript\n",
    "IPython.OutputArea.prototype._should_scroll = function(lines) {\n",
    "    return false;\n",
    "}\n",
    "\n"
   ]
  },
  {
   "cell_type": "code",
   "execution_count": 2,
   "metadata": {},
   "outputs": [
    {
     "ename": "ModuleNotFoundError",
     "evalue": "No module named 'vis'",
     "output_type": "error",
     "traceback": [
      "\u001b[0;31m---------------------------------------------------------------------------\u001b[0m",
      "\u001b[0;31mModuleNotFoundError\u001b[0m                       Traceback (most recent call last)",
      "Cell \u001b[0;32mIn[2], line 7\u001b[0m\n\u001b[1;32m      4\u001b[0m \u001b[38;5;28;01mimport\u001b[39;00m \u001b[38;5;21;01mmatplotlib\u001b[39;00m\u001b[38;5;21;01m.\u001b[39;00m\u001b[38;5;21;01mpyplot\u001b[39;00m \u001b[38;5;28;01mas\u001b[39;00m \u001b[38;5;21;01mplt\u001b[39;00m\n\u001b[1;32m      5\u001b[0m \u001b[38;5;28;01mfrom\u001b[39;00m \u001b[38;5;21;01mcopy\u001b[39;00m \u001b[38;5;28;01mimport\u001b[39;00m deepcopy\n\u001b[0;32m----> 7\u001b[0m \u001b[38;5;28;01mfrom\u001b[39;00m \u001b[38;5;21;01mvis\u001b[39;00m \u001b[38;5;28;01mimport\u001b[39;00m \u001b[38;5;241m*\u001b[39m\n\u001b[1;32m      8\u001b[0m mpl\u001b[38;5;241m.\u001b[39mrcParams[\u001b[38;5;124m'\u001b[39m\u001b[38;5;124mfigure.figsize\u001b[39m\u001b[38;5;124m'\u001b[39m] \u001b[38;5;241m=\u001b[39m (\u001b[38;5;241m14\u001b[39m,\u001b[38;5;241m6\u001b[39m)\n\u001b[1;32m     10\u001b[0m \u001b[38;5;66;03m#array = ['W102', 'W392']  # Test\u001b[39;00m\n",
      "\u001b[0;31mModuleNotFoundError\u001b[0m: No module named 'vis'"
     ]
    }
   ],
   "source": [
    "%matplotlib inline\n",
    "import numpy as np\n",
    "import matplotlib as mpl\n",
    "import matplotlib.pyplot as plt\n",
    "from copy import deepcopy\n",
    "\n",
    "from Vis import *\n",
    "mpl.rcParams['figure.figsize'] = (14,6)\n",
    "\n",
    "#array = ['W102', 'W392']  # Test\n",
    "\n",
    "array = ['W102', 'W4', 'W45', 'W173', 'W196', 'W392']  # EW 6A\n",
    "\n",
    "#array = ['W196', 'W64', 'W113', 'W392']  # Asteroid RADAR\n",
    "#array = ['W392', 'W64']  # Asteroid RADAR\n",
    "\n",
    "\n",
    "Dec = deg2rad(-43.2)\n",
    "RA = deg2rad(0) # This actually should make no difference at all\n",
    "step = 1  # Inverval for calculations, in minutes\n",
    "freq = 7100; # MHz\n",
    "FFTSize = 8192\n",
    "bandwidth = 128 # MHz\n",
    "overSampling = 32/27 # Seconds\n",
    "\n",
    "antenna = []\n",
    "\n",
    "antenna.append(Telescope(\"N2\",   \"N2\",   \"ATCA\", 12, 100, location=[-4751637.61372, 2791734.5617, -3200464.67139]))\n",
    "antenna.append(Telescope(\"N5\",   \"N5\",   \"ATCA\", 12, 100, location=[-4751657.54872, 2791746.3047, -3200425.00839]))  \n",
    "antenna.append(Telescope(\"N7\",   \"N7\",   \"ATCA\", 12, 100, location=[-4751670.83972, 2791754.1337, -3200398.56639]))\n",
    "antenna.append(Telescope(\"N11\",  \"N11\",  \"ATCA\", 12, 100, location=[-4751697.42072, 2791769.7907, -3200345.68239]))\n",
    "antenna.append(Telescope(\"N14\",  \"N14\",  \"ATCA\", 12, 100, location=[-4751717.35672, 2791781.5337, -3200306.01939]))\n",
    "antenna.append(Telescope(\"W0\",   \"W0\",   \"ATCA\", 12, 100, location=[-4752447.78172, 2790328.7857, -3200491.11339]))\n",
    "antenna.append(Telescope(\"W2\",   \"W2\",   \"ATCA\", 12, 100, location=[-4752432.24472, 2790355.1617, -3200491.11339]))\n",
    "antenna.append(Telescope(\"W4\",   \"W4\",   \"ATCA\", 12, 100, location=[-4752416.70772, 2790381.5387, -3200491.11339]))\n",
    "antenna.append(Telescope(\"W6\",   \"W6\",   \"ATCA\", 12, 100, location=[-4752401.17072, 2790407.9147, -3200491.11339]))\n",
    "antenna.append(Telescope(\"W8\",   \"W8\",   \"ATCA\", 12, 100, location=[-4752385.63372, 2790434.2907, -3200491.11339]))\n",
    "antenna.append(Telescope(\"W10\",  \"W10\",  \"ATCA\", 12, 100, location=[-4752370.09672, 2790460.6677, -3200491.11339]))\n",
    "antenna.append(Telescope(\"W12\",  \"W12\",  \"ATCA\", 12, 100, location=[-4752354.55972, 2790487.0437, -3200491.11339]))\n",
    "antenna.append(Telescope(\"W14\",  \"W14\",  \"ATCA\", 12, 100, location=[-4752339.02272, 2790513.4207, -3200491.11339]))\n",
    "antenna.append(Telescope(\"W16\",  \"W16\",  \"ATCA\", 12, 100, location=[-4752323.48572, 2790539.7967, -3200491.11339]))\n",
    "antenna.append(Telescope(\"W32\",  \"W32\",  \"ATCA\", 12, 100, location=[-4752199.19072, 2790750.8077, -3200491.11339]))\n",
    "antenna.append(Telescope(\"W45\",  \"W45\",  \"ATCA\", 12, 100, location=[-4752098.19972, 2790922.2537, -3200491.11339]))\n",
    "antenna.append(Telescope(\"W64\",  \"W64\",  \"ATCA\", 12, 100, location=[-4751950.59872, 2791172.8287, -3200491.11339]))\n",
    "antenna.append(Telescope(\"W84\",  \"W84\",  \"ATCA\", 12, 100, location=[-4751795.22972, 2791436.5927, -3200491.11339]))\n",
    "antenna.append(Telescope(\"W98\",  \"W98\",  \"ATCA\", 12, 100, location=[-4751686.47072, 2791621.2277, -3200491.11339]))\n",
    "antenna.append(Telescope(\"W100\", \"W100\", \"ATCA\", 12, 100, location=[-4751670.93372, 2791647.6037, -3200491.11339]))\n",
    "antenna.append(Telescope(\"W102\", \"W102\", \"ATCA\", 12, 100, location=[-4751655.39672, 2791673.9797, -3200491.11339]))\n",
    "antenna.append(Telescope(\"W104\", \"W104\", \"ATCA\", 12, 100, location=[-4751639.85972, 2791700.3567, -3200491.11339]))\n",
    "antenna.append(Telescope(\"W106\", \"W106\", \"ATCA\", 12, 100, location=[-4751624.32272, 2791726.7327, -3200491.11339]))\n",
    "antenna.append(Telescope(\"W109\", \"W109\", \"ATCA\", 12, 100, location=[-4751601.01772, 2791766.2967, -3200491.11339]))\n",
    "antenna.append(Telescope(\"W110\", \"W110\", \"ATCA\", 12, 100, location=[-4751593.24872, 2791779.4857, -3200491.11339]))\n",
    "antenna.append(Telescope(\"W111\", \"W111\", \"ATCA\", 12, 100, location=[-4751585.48072, 2791792.6737, -3200491.11339]))\n",
    "antenna.append(Telescope(\"W112\", \"W112\", \"ATCA\", 12, 100, location=[-4751577.71172, 2791805.8617, -3200491.11339]))\n",
    "antenna.append(Telescope(\"W113\", \"W113\", \"ATCA\", 12, 100, location=[-4751569.94372, 2791819.0497, -3200491.11339]))\n",
    "antenna.append(Telescope(\"W124\", \"W124\", \"ATCA\", 12, 100, location=[-4751484.49072, 2791964.1197, -3200491.11339]))\n",
    "antenna.append(Telescope(\"W125\", \"W125\", \"ATCA\", 12, 100, location=[-4751476.72172, 2791977.3077, -3200491.11339]))\n",
    "antenna.append(Telescope(\"W128\", \"W128\", \"ATCA\", 12, 100, location=[-4751453.41672, 2792016.8727, -3200491.11339]))\n",
    "antenna.append(Telescope(\"W129\", \"W129\", \"ATCA\", 12, 100, location=[-4751445.64772, 2792030.0607, -3200491.11339]))\n",
    "antenna.append(Telescope(\"W140\", \"W140\", \"ATCA\", 12, 100, location=[-4751360.19472, 2792175.1307, -3200491.11339]))\n",
    "antenna.append(Telescope(\"W147\", \"W147\", \"ATCA\", 12, 100, location=[-4751305.81472, 2792267.4477, -3200491.11339]))\n",
    "antenna.append(Telescope(\"W148\", \"W148\", \"ATCA\", 12, 100, location=[-4751298.04672, 2792280.6357, -3200491.11339]))\n",
    "antenna.append(Telescope(\"W163\", \"W163\", \"ATCA\", 12, 100, location=[-4751181.51972, 2792478.4587, -3200491.11339]))\n",
    "antenna.append(Telescope(\"W168\", \"W168\", \"ATCA\", 12, 100, location=[-4751142.67672, 2792544.3997, -3200491.11339]))\n",
    "antenna.append(Telescope(\"W172\", \"W172\", \"ATCA\", 12, 100, location=[-4751111.60372, 2792597.1527, -3200491.11339]))\n",
    "antenna.append(Telescope(\"W173\", \"W173\", \"ATCA\", 12, 100, location=[-4751103.83472, 2792610.3407, -3200491.11339]))\n",
    "antenna.append(Telescope(\"W182\", \"W182\", \"ATCA\", 12, 100, location=[-4751033.91872, 2792729.0337, -3200491.11339]))\n",
    "antenna.append(Telescope(\"W189\", \"W189\", \"ATCA\", 12, 100, location=[-4750979.53872, 2792821.3517, -3200491.11339]))\n",
    "antenna.append(Telescope(\"W190\", \"W190\", \"ATCA\", 12, 100, location=[-4750971.77072, 2792834.5397, -3200491.11339]))\n",
    "antenna.append(Telescope(\"W195\", \"W195\", \"ATCA\", 12, 100, location=[-4750932.92772, 2792900.4807, -3200491.11339]))\n",
    "antenna.append(Telescope(\"W196\", \"W196\", \"ATCA\", 12, 100, location=[-4750925.15972, 2792913.6687, -3200491.11339]))\n",
    "antenna.append(Telescope(\"W392\", \"W392\", \"ATCA\", 12, 100, location=[-4749402.52072, 2795498.5367, -3200491.06039]))\n",
    "\n",
    "\n",
    "# Just Select the antenna we want now\n",
    "if len(array)>0:\n",
    "    newants = []\n",
    "    for a in array:\n",
    "        for aa in antenna:\n",
    "            if aa.name.lower() == a.lower():\n",
    "                newants.append(aa)\n",
    "                break\n",
    "    antenna = newants\n",
    "\n",
    "C = 2.99792458e8\n",
    "    \n",
    "step *= 2*pi/(60*24)  # Convert to radians\n",
    "bandwidth *= 1e6\n",
    "wavelength = C/(freq*1e6)\n",
    "\n",
    "specRes = bandwidth*overSampling/FFTSize\n",
    "sampleTime = 1/(bandwidth*overSampling)\n",
    "FFTTime = sampleTime * FFTSize\n",
    "\n",
    "print(\"Spectral Resolution = {:.2f} kHz\".format(specRes/1000))\n",
    "print(\"Velocity Resolution = {:.4f} km/s\".format(specRes/(freq*1e6)*C/1000))\n",
    "print(\"Sample Time = {:.3f} nsec\".format(sampleTime*1e9))\n",
    "print(\"FFT Time = {:.1f} msec\".format(FFTTime*1e3))\n"
   ]
  },
  {
   "cell_type": "markdown",
   "metadata": {},
   "source": [
    "### Create baselines"
   ]
  },
  {
   "cell_type": "code",
   "execution_count": null,
   "metadata": {},
   "outputs": [],
   "source": [
    "baselines = []\n",
    "for j in range(1, len(antenna)):\n",
    "    baselines.append(Baseline(antenna[0], antenna[j]))"
   ]
  },
  {
   "cell_type": "markdown",
   "metadata": {},
   "source": [
    "### Baseline Delays"
   ]
  },
  {
   "cell_type": "code",
   "execution_count": null,
   "metadata": {},
   "outputs": [],
   "source": [
    "for b in baselines:\n",
    "    b.calcUp(RA, Dec, step)\n",
    "    \n",
    "    delay = [b.delay(RA, Dec, gst) for gst in b.gst]\n",
    "    times = [rad2hour(t) for t in b.gst]\n",
    "    plt.plot(times, delay)\n",
    "    \n",
    "plt.xlabel('GST (hr)')\n",
    "plt.ylabel('Delay (uSec)');"
   ]
  },
  {
   "cell_type": "markdown",
   "metadata": {},
   "source": [
    "### Maximum Delay\n"
   ]
  },
  {
   "cell_type": "code",
   "execution_count": null,
   "metadata": {},
   "outputs": [],
   "source": [
    "maxDelay = 0\n",
    "for b in baselines:\n",
    "    b.calcUp(RA, Dec, step)\n",
    "    \n",
    "    delay = [b.delay(RA, Dec, gst) for gst in b.gst]\n",
    "    thisMax = np.max(np.abs(delay))\n",
    "    if thisMax>maxDelay: maxDelay = thisMax\n",
    "        \n",
    "print(\"Maximum Delay = {:.1f} uSec\".format(maxDelay))"
   ]
  },
  {
   "cell_type": "markdown",
   "metadata": {},
   "source": [
    "### Delay Vs Dec"
   ]
  },
  {
   "cell_type": "code",
   "execution_count": null,
   "metadata": {},
   "outputs": [],
   "source": [
    "mDelay = []\n",
    "Decs = list(range(-90, 20, 2))\n",
    "for d in Decs:\n",
    "    thisDec = deg2rad(d)\n",
    "    maxDelay = 0\n",
    "    for b in baselines:\n",
    "        b.calcUp(RA, thisDec, step)\n",
    "    \n",
    "        delay = [b.delay(RA, thisDec, gst) for gst in b.gst]\n",
    "        thisMax = np.max(np.abs(delay))\n",
    "        if thisMax>maxDelay: maxDelay = thisMax\n",
    "\n",
    "    mDelay.append(maxDelay)\n",
    "    \n",
    "plt.plot(Decs, mDelay)\n",
    "    \n",
    "plt.xlabel('Dec')\n",
    "plt.ylabel('max Delay (uSec)');   \n",
    "i = np.argmax(mDelay)\n",
    "print(\"Maximum Delay = {:.1f} uSec at Dec = {:.1f}\".format(mDelay[i], Decs[i]))\n"
   ]
  },
  {
   "cell_type": "markdown",
   "metadata": {},
   "source": [
    "### Baseline Rates"
   ]
  },
  {
   "cell_type": "code",
   "execution_count": null,
   "metadata": {},
   "outputs": [],
   "source": [
    "# Fringe Rate (Hz)\n",
    "for b in baselines:\n",
    "    b.calcUp(RA, Dec, step)\n",
    "    \n",
    "    rate = [b.rate(RA, Dec, gst, wavelength) for gst in b.gst]\n",
    "    times = [rad2hour(t) for t in b.gst]\n",
    "    plt.plot(times, rate)\n",
    "    \n",
    "plt.xlabel('GST (hr)')\n",
    "plt.ylabel('Rate (Hz)');\n",
    "\n",
    "plt.show()\n",
    "\n",
    "# Delay Rate nSec/sec\n",
    "for b in baselines:\n",
    "    b.calcUp(RA, Dec, step)\n",
    "    \n",
    "    rate = [b.rate(RA, Dec, gst, None)*1e9 for gst in b.gst]\n",
    "    times = [rad2hour(t) for t in b.gst]\n",
    "    plt.plot(times, rate)\n",
    "    \n",
    "plt.xlabel('GST (hr)')\n",
    "plt.ylabel('Delay Rate (ns/sec)');\n",
    "\n",
    "plt.show()\n",
    "\n",
    "# Samples/FFT\n",
    "for b in baselines:\n",
    "    b.calcUp(RA, Dec, step)\n",
    "    \n",
    "    rate = [b.rate(RA, Dec, gst, None)/sampleTime*FFTTime*1e3 for gst in b.gst]\n",
    "    times = [rad2hour(t) for t in b.gst]\n",
    "    plt.plot(times, rate)\n",
    "    \n",
    "plt.xlabel('GST (hr)')\n",
    "plt.ylabel('Delay Rate (milli-samples/FFT)');\n",
    "\n",
    "plt.show()\n",
    "\n",
    "# Phase change \n",
    "for b in baselines:\n",
    "    b.calcUp(RA, Dec, step)\n",
    "    \n",
    "    rate = [b.rate(RA, Dec, gst, None)/sampleTime*FFTTime*360*1e3 for gst in b.gst]\n",
    "    times = [rad2hour(t) for t in b.gst]\n",
    "    plt.plot(times, rate)\n",
    "    \n",
    "plt.xlabel('GST (hr)')\n",
    "plt.ylabel('Phase change across FFT (milli-degrees)');\n",
    "\n"
   ]
  },
  {
   "cell_type": "markdown",
   "metadata": {},
   "source": [
    "### Rate vs Dec"
   ]
  },
  {
   "cell_type": "code",
   "execution_count": null,
   "metadata": {},
   "outputs": [],
   "source": [
    "mRate = []\n",
    "Decs = list(range(-90, 20, 2))\n",
    "for d in Decs:\n",
    "    thisDec = deg2rad(d)\n",
    "    maxRate = 0\n",
    "    for b in baselines:\n",
    "        b.calcUp(RA, thisDec, step)\n",
    "    \n",
    "        rate = [b.rate(RA, thisDec, gst, wavelength)*360 for gst in b.gst]\n",
    "        thisMax = np.max(np.abs(rate))\n",
    "        if thisMax>maxRate: maxRate = thisMax\n",
    "\n",
    "    mRate.append(maxRate)\n",
    "    \n",
    "fig, axes = plt.subplots()\n",
    "axes.plot(Decs, mRate)\n",
    "    \n",
    "axes.set_xlabel('Dec')\n",
    "axes.set_ylabel('max Rate (deg/sec)');   \n",
    "print(\"Maximum Rate = {:.1f} deg/Sec\".format(np.max(mRate)))\n",
    "\n",
    "i = np.argmax(mRate)\n",
    "print(\"Maximum Rate = {:.1f} deg/Sec at Dec = {:.1f}\".format(mRate[i], Decs[i]))\n",
    "\n"
   ]
  },
  {
   "cell_type": "code",
   "execution_count": null,
   "metadata": {},
   "outputs": [],
   "source": [
    "for a in antenna:\n",
    "    a.calcUp(RA, Dec, step)\n",
    "    (Az,El) = a.calcAzEl(RA, Dec) \n",
    "    El = rad2deg(El)\n",
    "    times = [rad2hour(t) for t in a.gst]\n",
    "    plt.plot(times, El)"
   ]
  },
  {
   "cell_type": "code",
   "execution_count": null,
   "metadata": {},
   "outputs": [],
   "source": [
    "\n"
   ]
  },
  {
   "cell_type": "code",
   "execution_count": null,
   "metadata": {},
   "outputs": [],
   "source": []
  }
 ],
 "metadata": {
  "kernelspec": {
   "display_name": "Python 3 (ipykernel)",
   "language": "python",
   "name": "python3"
  },
  "language_info": {
   "codemirror_mode": {
    "name": "ipython",
    "version": 3
   },
   "file_extension": ".py",
   "mimetype": "text/x-python",
   "name": "python",
   "nbconvert_exporter": "python",
   "pygments_lexer": "ipython3",
   "version": "3.10.9"
  },
  "vscode": {
   "interpreter": {
    "hash": "5982178dd2cd841a6b75ef548da7cfa54678c2bc379652f4daf3f3c4b7ce74f3"
   }
  }
 },
 "nbformat": 4,
 "nbformat_minor": 4
}
