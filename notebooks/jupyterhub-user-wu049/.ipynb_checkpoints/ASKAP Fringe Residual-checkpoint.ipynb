{
 "cells": [
  {
   "cell_type": "markdown",
   "metadata": {},
   "source": [
    "### Initialise arrays etc"
   ]
  },
  {
   "cell_type": "code",
   "execution_count": null,
   "metadata": {},
   "outputs": [],
   "source": [
    "%%javascript\n",
    "IPython.OutputArea.prototype._should_scroll = function(lines) {\n",
    "    return false;\n",
    "}"
   ]
  },
  {
   "cell_type": "code",
   "execution_count": null,
   "metadata": {},
   "outputs": [],
   "source": [
    "%matplotlib inline\n",
    "import numpy as np\n",
    "import matplotlib as mpl\n",
    "import matplotlib.pyplot as plt\n",
    "from copy import deepcopy\n",
    "\n",
    "from Vis import *\n",
    "mpl.rcParams['figure.figsize'] = (14,6)\n",
    "\n",
    "antenna = []\n",
    "antenna.append(Telescope(\"AK01\", \"AK01\", None,15.3, 2000, location=[-2556088.476234, 5097405.971301, -2848428.398018]))\n",
    "antenna.append(Telescope(\"AK02\", \"AK02\", None,15.3, 2000, location=[-2556109.980537, 5097388.701491, -2848440.136808]))\n",
    "antenna.append(Telescope(\"AK03\", \"AK03\", None,15.3, 2000, location=[-2556121.909962, 5097392.349265, -2848421.531867]))\n",
    "antenna.append(Telescope(\"AK04\", \"AK04\", None,15.3, 2000, location=[-2556087.395906, 5097423.586973, -2848396.866635]))\n",
    "antenna.append(Telescope(\"AK05\", \"AK05\", None,15.3, 2000, location=[-2556028.608552, 5097451.465629, -2848399.833298]))\n",
    "antenna.append(Telescope(\"AK06\", \"AK06\", None,15.3, 2000, location=[-2556231.671349, 5097388.015127, -2848327.623073]))\n",
    "antenna.append(Telescope(\"AK07\", \"AK07\", None,15.3, 2000, location=[-2556282.740000, 5097252.346000, -2848527.131000]))\n",
    "antenna.append(Telescope(\"AK08\", \"AK08\", None,15.3, 2000, location=[-2556006.138000, 5097327.655000, -2848641.622000]))\n",
    "antenna.append(Telescope(\"AK09\", \"AK09\", None,15.3, 2000, location=[-2555892.623000, 5097559.688000, -2848328.789000]))\n",
    "antenna.append(Telescope(\"AK10\", \"AK10\", None,15.3, 2000, location=[-2556058.249345, 5097558.825250, -2848177.009221]))\n",
    "antenna.append(Telescope(\"AK11\", \"AK11\", None,15.3, 2000, location=[-2556397.205000, 5097421.420000, -2848124.541000]))\n",
    "antenna.append(Telescope(\"AK12\", \"AK12\", None,15.3, 2000, location=[-2556496.232828, 5097333.704555, -2848187.327944]))\n",
    "antenna.append(Telescope(\"AK13\", \"AK13\", None,15.3, 2000, location=[-2556407.351118, 5097064.982933, -2848756.020695]))\n",
    "antenna.append(Telescope(\"AK14\", \"AK14\", None,15.3, 2000, location=[-2555972.778525, 5097233.670272, -2848839.914268]))\n",
    "antenna.append(Telescope(\"AK15\", \"AK15\", None,15.3, 2000, location=[-2555394.880000, 5097674.816000, -2848567.477000]))\n",
    "antenna.append(Telescope(\"AK16\", \"AK16\", None,15.3, 2000, location=[-2555592.927137, 5097835.035417, -2848098.260960]))\n",
    "antenna.append(Telescope(\"AK17\", \"AK17\", None,15.3, 2000, location=[-2555749.042987, 5097834.525719, -2847957.806907]))\n",
    "antenna.append(Telescope(\"AK18\", \"AK18\", None,15.3, 2000, location=[-2556069.454000, 5097603.916000, -2848092.292000]))\n",
    "antenna.append(Telescope(\"AK19\", \"AK19\", None,15.3, 2000, location=[-2556379.598068, 5097497.283878, -2847996.551124]))\n",
    "antenna.append(Telescope(\"AK20\", \"AK20\", None,15.3, 2000, location=[-2556605.032000, 5097304.024000, -2848147.942000]))\n",
    "antenna.append(Telescope(\"AK21\", \"AK21\", None,15.3, 2000, location=[-2556767.135000, 5097225.979000, -2848142.143000]))\n",
    "antenna.append(Telescope(\"AK22\", \"AK22\", None,15.3, 2000, location=[-2556912.719000, 5097159.763000, -2848130.033000]))\n",
    "antenna.append(Telescope(\"AK23\", \"AK23\", None,15.3, 2000, location=[-2555953.542000, 5097142.709000, -2849015.390000]))\n",
    "antenna.append(Telescope(\"AK24\", \"AK24\", None,15.3, 2000, location=[-2555959.324928, 5096979.548826, -2849303.626375]))\n",
    "antenna.append(Telescope(\"AK25\", \"AK25\", None,15.3, 2000, location=[-2555673.190000, 5097943.089000, -2847842.487000]))\n",
    "antenna.append(Telescope(\"AK26\", \"AK26\", None,15.3, 2000, location=[-2555870.762210, 5097845.422798, -2847828.141498]))\n",
    "antenna.append(Telescope(\"AK27\", \"AK27\", None,15.3, 2000, location=[-2555320.600474, 5098257.824452, -2847581.047000]))\n",
    "antenna.append(Telescope(\"AK28\", \"AK28\", None,15.3, 2000, location=[-2556552.967639, 5097767.186586, -2847354.232055]))\n",
    "antenna.append(Telescope(\"AK29\", \"AK29\", None,15.3, 2000, location=[-2556745.438000, 5097448.114000, -2847753.833000]))\n",
    "antenna.append(Telescope(\"AK30\", \"AK30\", None,15.3, 2000, location=[-2557348.345526, 5097170.098784, -2847716.176985]))\n",
    "antenna.append(Telescope(\"AK31\", \"AK31\", None,15.3, 2000, location=[-2558275.632000, 5096804.284000, -2847546.187000]))\n",
    "antenna.append(Telescope(\"AK32\", \"AK32\", None,15.3, 2000, location=[-2558279.672000, 5095040.491000, -2850676.186000]))\n",
    "antenna.append(Telescope(\"AK33\", \"AK33\", None,15.3, 2000, location=[-2555536.720000, 5096268.039000, -2850940.407000]))\n",
    "antenna.append(Telescope(\"AK34\", \"AK34\", None,15.3, 2000, location=[-2553019.483000, 5097938.540000, -2850213.874000]))\n",
    "antenna.append(Telescope(\"AK35\", \"AK35\", None,15.3, 2000, location=[-2554350.432000, 5098778.968000, -2847534.853000]))\n",
    "antenna.append(Telescope(\"AK36\", \"AK36\", None,15.3, 2000, location=[-2556761.001000, 5098670.824000, -2845577.611000])) \n",
    "\n",
    "\n",
    "# Array is 1 based!!!\n",
    "#array = []  # All\n",
    "array = [1,18, 32,34,35,36]  # Testing\n",
    "#array = [1,2,3,4,5,6,10,12,14,16,17,19,24,27,28,30]  # Main Array\n",
    "#array = [8,13,15,18,25,26,34]  # Commisioning Array\n",
    "#array = [1,3,16,34]\n",
    "\n",
    "# Just Select the antenna we want now\n",
    "if len(array)>0:\n",
    "    antenna = [antenna[i-1] for i in array]\n",
    "\n",
    "refAnt = 0 # Zero based!!!!!!\n",
    "    \n",
    "Dec = deg2rad(-30)  \n",
    "RA = deg2rad(0) # This actually should make no difference at all\n",
    "step = 1  # Inverval for calculations, in minutes\n",
    "freq = 1250; # MHz\n",
    "bandwidth = 300 # MHz\n",
    "timeOffset = 10.0 # Seconds\n",
    "\n",
    "step *= 2*pi/(60*24)  # Convert to radians\n",
    "timeOffset *= 2*pi/(60*60*24) # Radians\n",
    "\n",
    "bandwidth *= 1e6\n",
    "wavelength = 2.99792458e8/freq"
   ]
  },
  {
   "cell_type": "markdown",
   "metadata": {},
   "source": [
    "### Create baselines"
   ]
  },
  {
   "cell_type": "code",
   "execution_count": null,
   "metadata": {},
   "outputs": [],
   "source": [
    "baselines = []\n",
    "#for i in range(len(antenna)):\n",
    "#    for j in range(i+1, len(antenna)):\n",
    "#        baselines.append(Baseline(antenna[i], antenna[j]))\n",
    "for j in range(1, len(antenna)):\n",
    "        baselines.append(Baseline(antenna[0], antenna[j]))"
   ]
  },
  {
   "cell_type": "markdown",
   "metadata": {},
   "source": [
    "### Baseline Delays"
   ]
  },
  {
   "cell_type": "code",
   "execution_count": null,
   "metadata": {},
   "outputs": [],
   "source": [
    "for b in baselines:\n",
    "    b.calcUp(RA, Dec, step)\n",
    "    \n",
    "    delay = []\n",
    "    for gst in b.gst:\n",
    "        delay.append(b.delay(RA, Dec, gst))\n",
    "\n",
    "    times = [rad2hour(t) for t in b.gst]\n",
    "    plt.plot(times, delay, label=b.name)\n",
    "\n",
    "plt.legend()\n",
    "plt.xlabel('GST (hr)')\n",
    "plt.ylabel('Delay (uSec)');\n"
   ]
  },
  {
   "cell_type": "markdown",
   "metadata": {},
   "source": [
    "### Residual Phase from timing offset"
   ]
  },
  {
   "cell_type": "code",
   "execution_count": null,
   "metadata": {
    "scrolled": false
   },
   "outputs": [],
   "source": [
    "for b in baselines:\n",
    "    if b.ant1.name != antenna[refAnt].name and b.ant2.name != antenna[refAnt].name: continue\n",
    "\n",
    "    b.calcUp(RA, Dec, step)\n",
    "    \n",
    "    phase = []\n",
    "    for gst in b.gst:\n",
    "        d1 = b.delay(RA, Dec, gst)\n",
    "        d2 = b.delay(RA, Dec, gst+timeOffset)\n",
    "        phase.append((d2-d1)*1e-6*360*freq*1e6)\n",
    "        #phase.append((d2-d1)*1e-6*freq)\n",
    "\n",
    "\n",
    "    times = [rad2hour(t) for t in b.gst]\n",
    "    plt.plot(times, phase)\n",
    "    \n",
    "plt.xlabel('GST (hr)')\n",
    "plt.ylabel('Phase (deg)');\n",
    "plt.title('Residual phase with {:.2f} sec time error'.format(timeOffset/(2*pi)*24*60*60))\n",
    "plt.show()\n",
    "\n",
    "for b in baselines:\n",
    "\n",
    "    b.calcUp(RA, Dec, step)\n",
    "    \n",
    "    delay = []\n",
    "    for gst in b.gst:\n",
    "        d1 = b.delay(RA, Dec, gst)\n",
    "        d2 = b.delay(RA, Dec, gst+timeOffset)\n",
    "        delay.append((d2-d1)*1e3)\n",
    "\n",
    "    times = [rad2hour(t) for t in b.gst]\n",
    "    plt.plot(times, delay)\n",
    "    \n",
    "plt.xlabel('GST (hr)')\n",
    "plt.ylabel('Delay (nSec)');\n",
    "plt.title('Residual Delay with {:.2f} sec time error'.format(timeOffset/(2*pi)*24*60*60))\n",
    "plt.show()"
   ]
  },
  {
   "cell_type": "markdown",
   "metadata": {},
   "source": [
    "### Residual U and V from timing offset"
   ]
  },
  {
   "cell_type": "code",
   "execution_count": null,
   "metadata": {},
   "outputs": [],
   "source": [
    "###### fig, axes = plt.subplots()\n",
    "\n",
    "for b in baselines:\n",
    "    b.calcUp(RA, Dec, step)\n",
    "    \n",
    "    dU = []\n",
    "    for gst in b.gst:\n",
    "        (u1, v) = b.uv(RA, Dec, gst, wavelength)\n",
    "        (u2, v) = b.uv(RA, Dec, gst+timeOffset, wavelength)\n",
    "        dU.append((u2-u1)*100)\n",
    "\n",
    "    times = [rad2hour(t) for t in b.gst]\n",
    "    plt.plot(times, dU)\n",
    "    \n",
    "plt.xlabel('GST (hr)')\n",
    "plt.ylabel(chr(916)+'U (cm)');\n",
    "plt.show()\n",
    "\n",
    "for b in baselines:\n",
    "    b.calcUp(RA, Dec, step)\n",
    "    \n",
    "    dV = []\n",
    "    for gst in b.gst:\n",
    "        (u, v1) = b.uv(RA, Dec, gst, wavelength)\n",
    "        (u, v2) = b.uv(RA, Dec, gst+timeOffset, wavelength)\n",
    "        dV.append((v2-v1)*100)\n",
    "\n",
    "    times = [rad2hour(t) for t in b.gst]\n",
    "    plt.plot(times, dV)\n",
    "    \n",
    "plt.xlabel('GST (hr)')\n",
    "plt.ylabel(chr(916)+'V (cm)');\n",
    "\n",
    "plt.show()"
   ]
  },
  {
   "cell_type": "markdown",
   "metadata": {},
   "source": [
    "### Residual Phase from Positional Error"
   ]
  },
  {
   "cell_type": "code",
   "execution_count": null,
   "metadata": {},
   "outputs": [],
   "source": [
    "### Assume error in position of first antenna\n",
    "bants = deepcopy(antenna)\n",
    "refAnt1 = bants.pop(0)\n",
    "refAnt2 = deepcopy(refAnt1)\n",
    "\n",
    "refAnt2.name = refAnt1.name+'-Offset'\n",
    "\n",
    "loc = refAnt2.cartesian.offset(1,0.0,0)\n",
    "\n",
    "baselines1 = []\n",
    "baselines2 = []\n",
    "\n",
    "for a in bants:\n",
    "    baselines1.append(Baseline(refAnt1, a))\n",
    "    baselines2.append(Baseline(refAnt2, a))\n",
    "\n",
    "for i in range(len(baselines1)):\n",
    "    baselines1[i].calcUp(RA, Dec, step)\n",
    "    \n",
    "    phase = []\n",
    "    for gst in baselines1[i].gst:\n",
    "        d1 = baselines1[i].delay(RA, Dec, gst)\n",
    "        d2 = baselines2[i].delay(RA, Dec, gst)\n",
    "        phase.append((d2-d1)*1e-6*360*freq*1e6)\n",
    "\n",
    "    times = [rad2hour(t) for t in baselines1[i].gst]\n",
    "    plt.plot(times, phase)\n",
    "    \n",
    "plt.xlabel('GST (hr)')\n",
    "plt.ylabel('Phase (deg)');\n",
    "plt.title('Residual Phase offset with positional error')\n",
    "plt.show()\n",
    "\n",
    "for i in range(len(baselines1)):\n",
    "    baselines1[i].calcUp(RA, Dec, step)\n",
    "    \n",
    "    delay = []\n",
    "    for gst in baselines1[i].gst:\n",
    "        d1 = baselines1[i].delay(RA, Dec, gst)\n",
    "        d2 = baselines2[i].delay(RA, Dec, gst)\n",
    "        delay.append((d2-d1)*1000)\n",
    "\n",
    "    times = [rad2hour(t) for t in baselines1[i].gst]\n",
    "    plt.plot(times, delay)\n",
    "    \n",
    "plt.xlabel('GST (hr)')\n",
    "plt.ylabel('Delay nSec');\n",
    "plt.title('Residual Delay offset with positional error')\n",
    "plt.show()\n",
    "\n"
   ]
  },
  {
   "cell_type": "code",
   "execution_count": null,
   "metadata": {},
   "outputs": [],
   "source": [
    "### Residual Phase from timing offset\n",
    "\n",
    "timeOffsetSec = 37\n",
    "timeOffset = timeOffsetSec*2*pi/(60*60*24) # Radians\n",
    "\n",
    "for b in baselines:\n",
    "    if b.ant1.name != antenna[0].name and b.ant2.name != antenna[0].name: continue\n",
    "\n",
    "    b.calcUp(RA, Dec, step)\n",
    "    \n",
    "    phase = []\n",
    "    for gst in b.gst:\n",
    "        d1 = b.delay(RA, Dec, gst)\n",
    "        d2 = b.delay(RA, Dec, gst+timeOffset)\n",
    "        #phase.append((d2-d1)*1e-6*360*freq)\n",
    "        phase.append((d2-d1)*1e-6*freq*1e6*360)\n",
    "\n",
    "\n",
    "    times = [rad2hour(t) for t in b.gst]\n",
    "    plt.plot(times, phase)\n",
    "    \n",
    "plt.xlabel('GST (hr)')\n",
    "plt.ylabel('Phase (deg)');\n",
    "plt.title('Residual phase with {:.2f} sec time error'.format(timeOffset/(2*pi)*24*60*60))\n",
    "plt.show()\n",
    "\n",
    "for b in baselines:\n",
    "    if b.ant1.name != antenna[0].name and b.ant2.name != antenna[0].name: continue\n",
    "\n",
    "    b.calcUp(RA, Dec, step)\n",
    "    \n",
    "    delay = []\n",
    "    for gst in b.gst:\n",
    "        d1 = b.delay(RA, Dec, gst)\n",
    "        d2 = b.delay(RA, Dec, gst+timeOffset)\n",
    "        delay.append((d2-d1)*1e3)\n",
    "\n",
    "    times = [rad2hour(t) for t in b.gst]\n",
    "    plt.plot(times, delay)\n",
    "    \n",
    "plt.xlabel('GST (hr)')\n",
    "plt.ylabel('Delay (nSec)');\n",
    "plt.title('Residual Delay with {:.2f} sec time error'.format(timeOffsetSec))\n",
    "plt.show()\n"
   ]
  },
  {
   "cell_type": "markdown",
   "metadata": {},
   "source": [
    "### Residual Phase from Frequency offset"
   ]
  },
  {
   "cell_type": "code",
   "execution_count": null,
   "metadata": {},
   "outputs": [],
   "source": [
    "freqOffset = 0.01 # MHz\n",
    "\n",
    "for b in baselines:\n",
    "    if b.ant1.name != antenna[0].name and b.ant2.name != antenna[0].name: continue\n",
    "\n",
    "    b.calcUp(RA, Dec, step)\n",
    "    \n",
    "    p = []\n",
    "    for gst in b.gst:\n",
    "        d = b.delay(RA, Dec, gst)\n",
    "        #phase.append((d2-d1)*1e-6*360*freq)\n",
    "        p.append(d*1e-6*freqOffset*1e6*360)\n",
    "    \n",
    "    #phase = (np.asarray(p)+180)%360-180\n",
    "    phase = np.asarray(p)\n",
    "    \n",
    "    times = [rad2hour(t) for t in b.gst]\n",
    "    plt.plot(times, phase)\n",
    "    #plt.xlabel('GST (hr)')\n",
    "    #plt.ylabel('Phase (deg)');\n",
    "    #plt.title('Residual phase with {:.1f} MHz freq error ({} {:.000f}m)'.format(freqOffset,b.name,b.length))\n",
    "    #plt.show()\n",
    "plt.xlabel('GST (hr)')\n",
    "plt.ylabel('Phase (deg)');\n",
    "plt.title('Residual phase with {:.3f} MHz freq error'.format(freqOffset))\n",
    "plt.show()\n",
    "\n"
   ]
  },
  {
   "cell_type": "markdown",
   "metadata": {},
   "source": [
    "## Baseline lengths"
   ]
  },
  {
   "cell_type": "code",
   "execution_count": null,
   "metadata": {},
   "outputs": [],
   "source": [
    "\n",
    "for a in antenna:\n",
    "    print(a.name,end=\" \")"
   ]
  },
  {
   "cell_type": "code",
   "execution_count": null,
   "metadata": {},
   "outputs": [],
   "source": []
  },
  {
   "cell_type": "code",
   "execution_count": null,
   "metadata": {},
   "outputs": [],
   "source": []
  },
  {
   "cell_type": "code",
   "execution_count": null,
   "metadata": {},
   "outputs": [],
   "source": []
  }
 ],
 "metadata": {
  "kernelspec": {
   "display_name": ".venv",
   "language": "python",
   "name": "python3"
  },
  "language_info": {
   "codemirror_mode": {
    "name": "ipython",
    "version": 3
   },
   "file_extension": ".py",
   "mimetype": "text/x-python",
   "name": "python",
   "nbconvert_exporter": "python",
   "pygments_lexer": "ipython3",
   "version": "3.9.2"
  },
  "vscode": {
   "interpreter": {
    "hash": "5982178dd2cd841a6b75ef548da7cfa54678c2bc379652f4daf3f3c4b7ce74f3"
   }
  }
 },
 "nbformat": 4,
 "nbformat_minor": 2
}
